{
  "cells": [
    {
      "cell_type": "markdown",
      "metadata": {},
      "source": [
        "This is an example of how you run the FinBERT Agent to the get the next budiness day stock price prediction for a certain company:\n",
        "\n",
        "run in command line:\n",
        "\n",
        "**python FinBERT_agent.py predict \"TICKER\" \"sentiment analysis model\"**\n",
        "\n",
        "choices for sentiment analysis model:\n",
        "1. news-only-finbert"
      ]
    },
    {
      "cell_type": "code",
      "execution_count": 9,
      "metadata": {
        "colab": {
          "base_uri": "https://localhost:8080/"
        },
        "id": "GNk3b5paE_ey",
        "outputId": "52099165-3df1-4da0-c0ae-a3bc5e07f690"
      },
      "outputs": [
        {
          "name": "stdout",
          "output_type": "stream",
          "text": [
            "/content/drive/MyDrive/stock_price/FinBERT_agent.py:20: UserWarning: Creating a tensor from a list of numpy.ndarrays is extremely slow. Please consider converting the list to a single numpy.ndarray with numpy.array() before converting to a tensor. (Triggered internally at /pytorch/torch/csrc/utils/tensor_new.cpp:254.)\n",
            "  self.sequences = torch.tensor(sequences, dtype=torch.float32)\n",
            "No model found at news_only_finbert.pt. Training a new model...\n",
            "Epoch [1/20], Training Loss: 0.0339\n",
            "Epoch [2/20], Training Loss: 0.0041\n",
            "Epoch [3/20], Training Loss: 0.0031\n",
            "Epoch [4/20], Training Loss: 0.0025\n",
            "Epoch [5/20], Training Loss: 0.0022\n",
            "Epoch [6/20], Training Loss: 0.0019\n",
            "Epoch [7/20], Training Loss: 0.0018\n",
            "Epoch [8/20], Training Loss: 0.0017\n",
            "Epoch [9/20], Training Loss: 0.0016\n",
            "Epoch [10/20], Training Loss: 0.0016\n",
            "Epoch [11/20], Training Loss: 0.0016\n",
            "Epoch [12/20], Training Loss: 0.0015\n",
            "Epoch [13/20], Training Loss: 0.0015\n",
            "Epoch [14/20], Training Loss: 0.0015\n",
            "Epoch [15/20], Training Loss: 0.0016\n",
            "Epoch [16/20], Training Loss: 0.0015\n",
            "Epoch [17/20], Training Loss: 0.0015\n",
            "Epoch [18/20], Training Loss: 0.0015\n",
            "Epoch [19/20], Training Loss: 0.0015\n",
            "Epoch [20/20], Training Loss: 0.0015\n",
            "Figure(1000x500)\n",
            "Figure(1500x600)\n",
            "Predicted next-day 2025-04-28 00:00:00 close price for NVDA: 102.03\n"
          ]
        }
      ],
      "source": [
        "!python FinBERT_agent.py predict NVDA news-only-finbert"
      ]
    }
  ],
  "metadata": {
    "accelerator": "GPU",
    "colab": {
      "gpuType": "T4",
      "provenance": []
    },
    "kernelspec": {
      "display_name": "Python 3",
      "name": "python3"
    },
    "language_info": {
      "name": "python"
    }
  },
  "nbformat": 4,
  "nbformat_minor": 0
}
