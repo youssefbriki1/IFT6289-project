{
  "cells": [
    {
      "cell_type": "markdown",
      "metadata": {
        "id": "6VBePOs2tmVB"
      },
      "source": [
        "This is an example of how you run the FinBERT Agent to the get the next budiness day stock price prediction for a certain company:\n",
        "\n",
        "run in command line:\n",
        "\n",
        "**python FinBERT_agent.py predict \"TICKER\" \"sentiment analysis model\"**\n",
        "\n",
        "choices for sentiment analysis model:\n",
        "1. news-only-finbert"
      ]
    },
    {
      "cell_type": "code",
      "execution_count": 1,
      "metadata": {
        "colab": {
          "base_uri": "https://localhost:8080/"
        },
        "id": "GNk3b5paE_ey",
        "outputId": "0f3a5912-0c38-406b-d070-71c32f89de15"
      },
      "outputs": [
        {
          "output_type": "stream",
          "name": "stdout",
          "text": [
            "/content/FinBERT_agent.py:20: UserWarning: Creating a tensor from a list of numpy.ndarrays is extremely slow. Please consider converting the list to a single numpy.ndarray with numpy.array() before converting to a tensor. (Triggered internally at /pytorch/torch/csrc/utils/tensor_new.cpp:254.)\n",
            "  self.sequences = torch.tensor(sequences, dtype=torch.float32)\n",
            "No model found at news_only_finbert.pt. Training a new model...\n",
            "Epoch [1/20], Training Loss: 0.0325\n",
            "Epoch [2/20], Training Loss: 0.0039\n",
            "Epoch [3/20], Training Loss: 0.0029\n",
            "Epoch [4/20], Training Loss: 0.0024\n",
            "Epoch [5/20], Training Loss: 0.0021\n",
            "Epoch [6/20], Training Loss: 0.0018\n",
            "Epoch [7/20], Training Loss: 0.0017\n",
            "Epoch [8/20], Training Loss: 0.0017\n",
            "Epoch [9/20], Training Loss: 0.0016\n",
            "Epoch [10/20], Training Loss: 0.0016\n",
            "Epoch [11/20], Training Loss: 0.0016\n",
            "Epoch [12/20], Training Loss: 0.0016\n",
            "Epoch [13/20], Training Loss: 0.0016\n",
            "Epoch [14/20], Training Loss: 0.0015\n",
            "Epoch [15/20], Training Loss: 0.0016\n",
            "Epoch [16/20], Training Loss: 0.0015\n",
            "Epoch [17/20], Training Loss: 0.0015\n",
            "Epoch [18/20], Training Loss: 0.0015\n",
            "Epoch [19/20], Training Loss: 0.0015\n",
            "Epoch [20/20], Training Loss: 0.0015\n",
            "Figure(1000x500)\n",
            "Figure(1500x600)\n",
            "Predicted next-day 2025-04-28 00:00:00 close price for NVDA: 108.55\n"
          ]
        }
      ],
      "source": [
        "!python FinBERT_agent.py predict NVDA news-only-finbert"
      ]
    },
    {
      "cell_type": "markdown",
      "source": [
        "2 news-socialmedia-finbert"
      ],
      "metadata": {
        "id": "P_GVl2Zetrb6"
      }
    },
    {
      "cell_type": "code",
      "source": [
        "!python FinBERT_agent.py predict NVDA news-socialmedia-finbert"
      ],
      "metadata": {
        "colab": {
          "base_uri": "https://localhost:8080/"
        },
        "id": "0yBctHGstuSD",
        "outputId": "cde8486c-3786-494f-e4ab-a092d629529d"
      },
      "execution_count": 2,
      "outputs": [
        {
          "output_type": "stream",
          "name": "stdout",
          "text": [
            "/content/FinBERT_agent.py:20: UserWarning: Creating a tensor from a list of numpy.ndarrays is extremely slow. Please consider converting the list to a single numpy.ndarray with numpy.array() before converting to a tensor. (Triggered internally at /pytorch/torch/csrc/utils/tensor_new.cpp:254.)\n",
            "  self.sequences = torch.tensor(sequences, dtype=torch.float32)\n",
            "No model found at news_socialmedia_finbert.pt. Training a new model...\n",
            "Epoch [1/20], Training Loss: 0.0105\n",
            "Epoch [2/20], Training Loss: 0.0013\n",
            "Epoch [3/20], Training Loss: 0.0009\n",
            "Epoch [4/20], Training Loss: 0.0008\n",
            "Epoch [5/20], Training Loss: 0.0007\n",
            "Epoch [6/20], Training Loss: 0.0007\n",
            "Epoch [7/20], Training Loss: 0.0007\n",
            "Epoch [8/20], Training Loss: 0.0007\n",
            "Epoch [9/20], Training Loss: 0.0007\n",
            "Epoch [10/20], Training Loss: 0.0007\n",
            "Epoch [11/20], Training Loss: 0.0007\n",
            "Epoch [12/20], Training Loss: 0.0006\n",
            "Epoch [13/20], Training Loss: 0.0007\n",
            "Epoch [14/20], Training Loss: 0.0006\n",
            "Epoch [15/20], Training Loss: 0.0006\n",
            "Epoch [16/20], Training Loss: 0.0006\n",
            "Epoch [17/20], Training Loss: 0.0006\n",
            "Epoch [18/20], Training Loss: 0.0006\n",
            "Epoch [19/20], Training Loss: 0.0006\n",
            "Epoch [20/20], Training Loss: 0.0006\n",
            "Figure(1000x500)\n",
            "Figure(1500x600)\n",
            "Predicted next-day 2025-04-28 00:00:00 close price for NVDA: 107.26\n"
          ]
        }
      ]
    }
  ],
  "metadata": {
    "accelerator": "GPU",
    "colab": {
      "gpuType": "T4",
      "provenance": []
    },
    "kernelspec": {
      "display_name": "Python 3",
      "name": "python3"
    },
    "language_info": {
      "name": "python"
    }
  },
  "nbformat": 4,
  "nbformat_minor": 0
}