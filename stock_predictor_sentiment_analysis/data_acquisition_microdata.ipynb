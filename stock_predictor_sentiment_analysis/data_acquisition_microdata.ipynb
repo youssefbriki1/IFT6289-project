{
  "cells": [
    {
      "cell_type": "code",
      "execution_count": 1,
      "metadata": {
        "id": "rzwA6D-esUwC"
      },
      "outputs": [],
      "source": [
        "import requests\n",
        "import pandas as pd\n",
        "import numpy as np\n",
        "from datetime import datetime\n",
        "import torch\n",
        "import torch.nn as nn\n",
        "from torch.utils.data import Dataset, DataLoader\n",
        "from sklearn.preprocessing import MinMaxScaler\n",
        "from sklearn.model_selection import train_test_split\n",
        "import matplotlib.pyplot as plt\n"
      ]
    },
    {
      "cell_type": "code",
      "execution_count": 2,
      "metadata": {
        "colab": {
          "base_uri": "https://localhost:8080/"
        },
        "id": "Jz-FDPDEsUwD",
        "outputId": "704fd4bf-ec81-4fbe-d5c6-3a9d6ab4c58f"
      },
      "outputs": [
        {
          "output_type": "stream",
          "name": "stdout",
          "text": [
            "          date           gdp\n",
            "64  1960-01-01  5.419886e+11\n",
            "63  1961-01-01  5.619403e+11\n",
            "62  1962-01-01  6.036394e+11\n",
            "61  1963-01-01  6.370586e+11\n",
            "60  1964-01-01  6.841446e+11\n",
            "..         ...           ...\n",
            "4   2020-01-01  2.135410e+13\n",
            "3   2021-01-01  2.368117e+13\n",
            "2   2022-01-01  2.600689e+13\n",
            "1   2023-01-01  2.772071e+13\n",
            "0   2024-01-01           NaN\n",
            "\n",
            "[65 rows x 2 columns]\n",
            "          date  real_interest_rate\n",
            "64  1960-01-01                 NaN\n",
            "63  1961-01-01            3.107885\n",
            "62  1962-01-01            3.215346\n",
            "61  1963-01-01            3.374882\n",
            "60  1964-01-01            2.951669\n",
            "..         ...                 ...\n",
            "4   2020-01-01            2.186282\n",
            "3   2021-01-01           -1.258522\n",
            "2   2022-01-01                 NaN\n",
            "1   2023-01-01                 NaN\n",
            "0   2024-01-01                 NaN\n",
            "\n",
            "[65 rows x 2 columns]\n",
            "          date  unemployment_rate\n",
            "64  1960-01-01              5.500\n",
            "63  1961-01-01              6.700\n",
            "62  1962-01-01              5.500\n",
            "61  1963-01-01              5.700\n",
            "60  1964-01-01              5.200\n",
            "..         ...                ...\n",
            "4   2020-01-01              8.055\n",
            "3   2021-01-01              5.349\n",
            "2   2022-01-01              3.650\n",
            "1   2023-01-01              3.638\n",
            "0   2024-01-01                NaN\n",
            "\n",
            "[65 rows x 2 columns]\n",
            "          date  inflation_rate\n",
            "64  1960-01-01        1.457976\n",
            "63  1961-01-01        1.070724\n",
            "62  1962-01-01        1.198773\n",
            "61  1963-01-01        1.239669\n",
            "60  1964-01-01        1.278912\n",
            "..         ...             ...\n",
            "4   2020-01-01        1.233584\n",
            "3   2021-01-01        4.697859\n",
            "2   2022-01-01        8.002800\n",
            "1   2023-01-01        4.116338\n",
            "0   2024-01-01        2.949525\n",
            "\n",
            "[65 rows x 2 columns]\n"
          ]
        }
      ],
      "source": [
        "def fetch_worldbank_data(indicator_code, indicator_name):\n",
        "    \"\"\"Fetch data from World Bank API\"\"\"\n",
        "    url = f\"http://api.worldbank.org/v2/country/USA/indicator/{indicator_code}?format=json&per_page=100\"\n",
        "    response = requests.get(url)\n",
        "    data = response.json()[1]  # Actual data is in the second element\n",
        "\n",
        "    df = pd.DataFrame(data)\n",
        "    df['date'] = pd.to_datetime(df['date']).dt.date\n",
        "    df = df[['date', 'value']].rename(columns={'value': indicator_name})\n",
        "    df = df.sort_values('date')\n",
        "    return df\n",
        "\n",
        "# Fetch all macroeconomic indicators\n",
        "gdp = fetch_worldbank_data(\"NY.GDP.MKTP.CD\", \"gdp\")\n",
        "interest_rate = fetch_worldbank_data(\"FR.INR.RINR\", \"real_interest_rate\")\n",
        "unemployment = fetch_worldbank_data(\"SL.UEM.TOTL.NE.ZS\", \"unemployment_rate\")\n",
        "inflation = fetch_worldbank_data(\"FP.CPI.TOTL.ZG\", \"inflation_rate\")\n",
        "\n",
        "print(gdp)\n",
        "print(interest_rate)\n",
        "print(unemployment)\n",
        "print(inflation)"
      ]
    },
    {
      "cell_type": "code",
      "execution_count": 6,
      "metadata": {
        "colab": {
          "base_uri": "https://localhost:8080/"
        },
        "id": "99wF7wJAsUwD",
        "outputId": "2c066d21-35b9-4ece-def7-937bef777988"
      },
      "outputs": [
        {
          "output_type": "stream",
          "name": "stderr",
          "text": [
            "<ipython-input-6-627fb1a1f8d0>:16: FutureWarning: The default fill_method='pad' in Series.pct_change is deprecated and will be removed in a future version. Either fill in any non-leading NA values prior to calling pct_change or specify 'fill_method=None' to not fill NA values.\n",
            "  macro_df['gdp_growth'] = macro_df['gdp'].pct_change(periods=90)  # Quarterly growth\n",
            "<ipython-input-6-627fb1a1f8d0>:21: FutureWarning: DataFrame.fillna with 'method' is deprecated and will raise in a future version. Use obj.ffill() or obj.bfill() instead.\n",
            "  macro_df = macro_df.fillna(method='bfill')\n"
          ]
        },
        {
          "output_type": "stream",
          "name": "stdout",
          "text": [
            "macro data download finished!\n",
            "Saved as macro_data.csv\n"
          ]
        }
      ],
      "source": [
        "def process_macro_data(gdp, interest, unemployment, inflation):\n",
        "    \"\"\"Combine and process macroeconomic data\"\"\"\n",
        "    # Merge all data\n",
        "    macro_df = gdp.merge(interest, on='date', how='outer')\n",
        "    macro_df = macro_df.merge(unemployment, on='date', how='outer')\n",
        "    macro_df = macro_df.merge(inflation, on='date', how='outer')\n",
        "\n",
        "    # Convert to datetime and set as index\n",
        "    macro_df['date'] = pd.to_datetime(macro_df['date'])\n",
        "    macro_df = macro_df.set_index('date')\n",
        "\n",
        "    # Forward fill quarterly data to daily\n",
        "    macro_df = macro_df.resample('D').ffill()\n",
        "\n",
        "    # Calculate growth rates and moving averages\n",
        "    macro_df['gdp_growth'] = macro_df['gdp'].pct_change(periods=90)  # Quarterly growth\n",
        "    macro_df['unemployment_ma'] = macro_df['unemployment_rate'].rolling(90).mean()\n",
        "    macro_df['inflation_ma'] = macro_df['inflation_rate'].rolling(90).mean()\n",
        "\n",
        "    # Fill any remaining NA values\n",
        "    macro_df = macro_df.fillna(method='bfill')\n",
        "\n",
        "    return macro_df.reset_index()\n",
        "\n",
        "macro_data = process_macro_data(gdp, interest_rate, unemployment, inflation)\n",
        "\n",
        "#print(macro_data.head())\n",
        "\n",
        "\n",
        "# Save the new CSV\n",
        "macro_data.to_csv(\"macro_data.csv\", index=False)\n",
        "print (\"macro data download finished!\")\n",
        "print(\"Saved as macro_data.csv\")"
      ]
    }
  ],
  "metadata": {
    "kernelspec": {
      "display_name": "Python 3",
      "language": "python",
      "name": "python3"
    },
    "language_info": {
      "codemirror_mode": {
        "name": "ipython",
        "version": 3
      },
      "file_extension": ".py",
      "mimetype": "text/x-python",
      "name": "python",
      "nbconvert_exporter": "python",
      "pygments_lexer": "ipython3",
      "version": "3.11.9"
    },
    "colab": {
      "provenance": []
    }
  },
  "nbformat": 4,
  "nbformat_minor": 0
}